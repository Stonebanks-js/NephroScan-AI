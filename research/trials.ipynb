{
 "cells": [
  {
   "cell_type": "code",
   "execution_count": 1,
   "id": "ce5f1369",
   "metadata": {},
   "outputs": [],
   "source": [
    "# Importing Data from Google Drive"
   ]
  },
  {
   "cell_type": "code",
   "execution_count": 2,
   "id": "4a0f5de8",
   "metadata": {},
   "outputs": [],
   "source": [
    "import gdown"
   ]
  },
  {
   "cell_type": "code",
   "execution_count": 3,
   "id": "a18d194a",
   "metadata": {},
   "outputs": [],
   "source": [
    "url = \"https://drive.google.com/file/d/1YYbpicJBzIF2QXHyPgQkoWrb1q_VQh6J/view?usp=sharing\""
   ]
  },
  {
   "cell_type": "code",
   "execution_count": 4,
   "id": "aabd6e71",
   "metadata": {},
   "outputs": [],
   "source": [
    "file_id = url.split('/')[-2]"
   ]
  },
  {
   "cell_type": "code",
   "execution_count": 5,
   "id": "f6976448",
   "metadata": {},
   "outputs": [
    {
     "name": "stderr",
     "output_type": "stream",
     "text": [
      "Downloading...\n",
      "From (original): https://drive.google.com/uc?/export=download&id=1YYbpicJBzIF2QXHyPgQkoWrb1q_VQh6J\n",
      "From (redirected): https://drive.google.com/uc?%2Fexport=download&id=1YYbpicJBzIF2QXHyPgQkoWrb1q_VQh6J&confirm=t&uuid=a43b2e75-7823-4c7d-8147-3706e69e00a5\n",
      "To: /home/aradhyac/NephroScan-AI/research/kidney-CT-Scan-data.zip\n",
      "100%|██████████| 1.63G/1.63G [18:03<00:00, 1.50MB/s] \n"
     ]
    },
    {
     "data": {
      "text/plain": [
       "'kidney-CT-Scan-data.zip'"
      ]
     },
     "execution_count": 5,
     "metadata": {},
     "output_type": "execute_result"
    }
   ],
   "source": [
    "prefix = 'https://drive.google.com/uc?/export=download&id='\n",
    "gdown.download(prefix+file_id, \"kidney-CT-Scan-data.zip\")"
   ]
  },
  {
   "cell_type": "code",
   "execution_count": null,
   "id": "99909814",
   "metadata": {},
   "outputs": [],
   "source": []
  }
 ],
 "metadata": {
  "kernelspec": {
   "display_name": "venv",
   "language": "python",
   "name": "python3"
  },
  "language_info": {
   "codemirror_mode": {
    "name": "ipython",
    "version": 3
   },
   "file_extension": ".py",
   "mimetype": "text/x-python",
   "name": "python",
   "nbconvert_exporter": "python",
   "pygments_lexer": "ipython3",
   "version": "3.13.5"
  }
 },
 "nbformat": 4,
 "nbformat_minor": 5
}
